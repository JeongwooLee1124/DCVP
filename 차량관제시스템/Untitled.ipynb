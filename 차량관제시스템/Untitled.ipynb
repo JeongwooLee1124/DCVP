{
 "cells": [
  {
   "cell_type": "code",
   "execution_count": 1,
   "id": "1212aeb7",
   "metadata": {},
   "outputs": [],
   "source": [
    "from inference import infer"
   ]
  },
  {
   "cell_type": "code",
   "execution_count": 2,
   "id": "63da87c4",
   "metadata": {},
   "outputs": [
    {
     "name": "stdout",
     "output_type": "stream",
     "text": [
      "Build model successfully.\n",
      "Load model weights successfully.\n",
      "SR image save to `./sr/0.png`\n",
      "Load SR image to OCR\n",
      "\n",
      "160허5541\n",
      "\n",
      "OCR results save to `./ocr/0.json`\n"
     ]
    }
   ],
   "source": [
    "infer()"
   ]
  }
 ],
 "metadata": {
  "kernelspec": {
   "display_name": "Python 3 (ipykernel)",
   "language": "python",
   "name": "python3"
  },
  "language_info": {
   "codemirror_mode": {
    "name": "ipython",
    "version": 3
   },
   "file_extension": ".py",
   "mimetype": "text/x-python",
   "name": "python",
   "nbconvert_exporter": "python",
   "pygments_lexer": "ipython3",
   "version": "3.10.9"
  }
 },
 "nbformat": 4,
 "nbformat_minor": 5
}
